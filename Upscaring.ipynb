{
  "nbformat": 4,
  "nbformat_minor": 0,
  "metadata": {
    "colab": {
      "provenance": [],
      "gpuType": "V100",
      "machine_shape": "hm",
      "authorship_tag": "ABX9TyPeGWqrflyk+JEiGA3UoDNS",
      "include_colab_link": true
    },
    "kernelspec": {
      "name": "python3",
      "display_name": "Python 3"
    },
    "language_info": {
      "name": "python"
    },
    "accelerator": "GPU"
  },
  "cells": [
    {
      "cell_type": "markdown",
      "metadata": {
        "id": "view-in-github",
        "colab_type": "text"
      },
      "source": [
        "<a href=\"https://colab.research.google.com/github/ujm/test/blob/master/Upscaring.ipynb\" target=\"_parent\"><img src=\"https://colab.research.google.com/assets/colab-badge.svg\" alt=\"Open In Colab\"/></a>"
      ]
    },
    {
      "cell_type": "code",
      "source": [
        "import os\n",
        "import glob\n",
        "\n",
        "# Real-ESRGANのリポジトリをクローン\n",
        "!git clone https://github.com/xinntao/Real-ESRGAN.git\n",
        "%cd Real-ESRGAN\n",
        "\n",
        "# 依存関係をインストール\n",
        "!pip install -r requirements.txt\n",
        "\n",
        "# プリセットされたモデルをダウンロード\n",
        "!python setup.py develop\n",
        "!wget https://github.com/xinntao/Real-ESRGAN/releases/download/v0.1.0/RealESRGAN_x4plus.pth -P experiments/pretrained_models\n",
        "\n",
        "# 'uploads' ディレクトリを作成\n",
        "uploads_dir = '/content/Real-ESRGAN/uploads'\n",
        "os.makedirs(uploads_dir, exist_ok=True)\n",
        "print(f\"'{uploads_dir}' ディレクトリを作成しました。\")\n",
        "\n",
        "# 'results' ディレクトリを作成\n",
        "results_dir = '/content/Real-ESRGAN/results'\n",
        "os.makedirs(results_dir, exist_ok=True)\n",
        "print(f\"'{results_dir}' ディレクトリを作成しました。\")"
      ],
      "metadata": {
        "id": "VOMgM61zL81O"
      },
      "execution_count": null,
      "outputs": []
    }
  ]
}